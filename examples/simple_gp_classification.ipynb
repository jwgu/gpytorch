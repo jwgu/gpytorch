{
 "cells": [
  {
   "cell_type": "code",
   "execution_count": 1,
   "metadata": {
    "collapsed": true
   },
   "outputs": [],
   "source": [
    "import math\n",
    "import torch\n",
    "import gpytorch\n",
    "from matplotlib import pyplot as plt\n",
    "\n",
    "%matplotlib inline\n",
    "%load_ext autoreload\n",
    "%autoreload 2"
   ]
  },
  {
   "cell_type": "code",
   "execution_count": 2,
   "metadata": {
    "collapsed": true
   },
   "outputs": [],
   "source": [
    "from torch.autograd import Variable\n",
    "train_x = Variable(torch.linspace(0, 1, 10))\n",
    "train_y = Variable(torch.sign(torch.cos(train_x.data * (4 * math.pi))))"
   ]
  },
  {
   "cell_type": "code",
   "execution_count": 3,
   "metadata": {
    "collapsed": true
   },
   "outputs": [],
   "source": [
    "from torch import nn, optim\n",
    "from gpytorch.kernels import RBFKernel\n",
    "from gpytorch.means import ConstantMean\n",
    "from gpytorch.likelihoods import GaussianLikelihood, BernoulliLikelihood\n",
    "from gpytorch.random_variables import GaussianRandomVariable"
   ]
  },
  {
   "cell_type": "code",
   "execution_count": 4,
   "metadata": {
    "collapsed": false
   },
   "outputs": [
    {
     "data": {
      "text/plain": [
       "GPClassificationModel (\n",
       "  (likelihood): BernoulliLikelihood (\n",
       "  )\n",
       "  (mean_module): ConstantMean (\n",
       "  )\n",
       "  (covar_module): RBFKernel (\n",
       "  )\n",
       ")"
      ]
     },
     "execution_count": 4,
     "metadata": {},
     "output_type": "execute_result"
    }
   ],
   "source": [
    "class GPClassificationModel(gpytorch.GPModel):\n",
    "    def __init__(self):\n",
    "        super(GPClassificationModel,self).__init__(BernoulliLikelihood())\n",
    "        self.mean_module = ConstantMean(constant_bounds=[-1e-5,1e-5])\n",
    "        self.covar_module = RBFKernel(log_lengthscale_bounds=(-5, 6))\n",
    "        self.register_parameter('log_outputscale', nn.Parameter(torch.Tensor([0])), bounds=(-5,6))\n",
    "    \n",
    "    \n",
    "    def forward(self,x):\n",
    "        mean_x = self.mean_module(x)\n",
    "        covar_x = self.covar_module(x)\n",
    "        covar_x = covar_x.mul(self.log_outputscale.exp().expand_as(covar_x))\n",
    "        latent_pred = GaussianRandomVariable(mean_x, covar_x)\n",
    "        return latent_pred\n",
    "\n",
    "model = GPClassificationModel()\n",
    "model.condition(train_x, train_y)"
   ]
  },
  {
   "cell_type": "code",
   "execution_count": 5,
   "metadata": {
    "collapsed": true
   },
   "outputs": [],
   "source": [
    "def plot_model_and_predictions(model, plot_train_data=True):\n",
    "    f, observed_ax = plt.subplots(1, 1, figsize=(4, 3))\n",
    "    test_x = Variable(torch.linspace(0, 1, 26))\n",
    "    observed_pred = model(test_x)\n",
    "\n",
    "    def ax_plot(ax, rand_var, title):\n",
    "        if plot_train_data:\n",
    "            ax.plot(train_x.data.numpy(), train_y.data.numpy(), 'k*')\n",
    "        pred_labels = rand_var.mean().ge(0.5).float().mul(2).sub(1)\n",
    "        ax.plot(test_x.data.numpy(), pred_labels.data.numpy(), 'b')\n",
    "        ax.set_ylim([-3, 3])\n",
    "        ax.legend(['Observed Data', 'Mean', 'Confidence'])\n",
    "        ax.set_title(title)\n",
    "    \n",
    "    ax_plot(observed_ax, observed_pred, 'Observed Values (Likelihood)')\n",
    "    \n",
    "    return f"
   ]
  },
  {
   "cell_type": "code",
   "execution_count": 6,
   "metadata": {
    "collapsed": false,
    "scrolled": true
   },
   "outputs": [
    {
     "data": {
      "image/png": "[encoded data removed]",
      "text/plain": [
       "<matplotlib.figure.Figure at 0x7f5dcc073410>"
      ]
     },
     "metadata": {},
     "output_type": "display_data"
    }
   ],
   "source": [
    "f = plot_model_and_predictions(model, plot_train_data=False)"
   ]
  },
  {
   "cell_type": "code",
   "execution_count": 7,
   "metadata": {
    "collapsed": false,
    "scrolled": true
   },
   "outputs": [
    {
     "name": "stdout",
     "output_type": "stream",
     "text": [
      "Iter 1/100 - Loss: 3085.813   log_lengthscale: 0.000\n",
      "Iter 2/100 - Loss: 2150.799   log_lengthscale: -0.100\n",
      "Iter 3/100 - Loss: 1294.754   log_lengthscale: -0.200\n",
      "Iter 4/100 - Loss: 739.100   log_lengthscale: -0.299\n",
      "Iter 5/100 - Loss: 805.730   log_lengthscale: -0.397\n",
      "Iter 6/100 - Loss: 463.788   log_lengthscale: -0.497\n",
      "Iter 7/100 - Loss: 668.923   log_lengthscale: -0.597\n",
      "Iter 8/100 - Loss: 276.724   log_lengthscale: -0.696\n",
      "Iter 9/100 - Loss: 347.956   log_lengthscale: -0.797\n",
      "Iter 10/100 - Loss: 442.329   log_lengthscale: -0.897\n",
      "Iter 11/100 - Loss: 313.642   log_lengthscale: -0.999\n",
      "Iter 12/100 - Loss: 222.004   log_lengthscale: -1.099\n",
      "Iter 13/100 - Loss: 412.886   log_lengthscale: -1.198\n",
      "Iter 14/100 - Loss: 358.307   log_lengthscale: -1.297\n",
      "Iter 15/100 - Loss: 247.077   log_lengthscale: -1.391\n",
      "Iter 16/100 - Loss: 85.229   log_lengthscale: -1.482\n",
      "Iter 17/100 - Loss: 170.107   log_lengthscale: -1.571\n",
      "Iter 18/100 - Loss: 160.092   log_lengthscale: -1.659\n",
      "Iter 19/100 - Loss: 55.095   log_lengthscale: -1.742\n",
      "Iter 20/100 - Loss: 139.418   log_lengthscale: -1.820\n",
      "Iter 21/100 - Loss: 76.353   log_lengthscale: -1.895\n",
      "Iter 22/100 - Loss: 90.524   log_lengthscale: -1.967\n",
      "Iter 23/100 - Loss: 50.796   log_lengthscale: -2.038\n",
      "Iter 24/100 - Loss: 72.785   log_lengthscale: -2.104\n",
      "Iter 25/100 - Loss: 59.141   log_lengthscale: -2.165\n",
      "Iter 26/100 - Loss: 89.232   log_lengthscale: -2.221\n",
      "Iter 27/100 - Loss: 64.720   log_lengthscale: -2.274\n",
      "Iter 28/100 - Loss: 54.055   log_lengthscale: -2.323\n",
      "Iter 29/100 - Loss: 57.215   log_lengthscale: -2.371\n",
      "Iter 30/100 - Loss: 34.691   log_lengthscale: -2.416\n",
      "Iter 31/100 - Loss: 66.747   log_lengthscale: -2.456\n",
      "Iter 32/100 - Loss: 32.970   log_lengthscale: -2.493\n",
      "Iter 33/100 - Loss: 16.578   log_lengthscale: -2.529\n",
      "Iter 34/100 - Loss: 28.801   log_lengthscale: -2.562\n",
      "Iter 35/100 - Loss: 43.255   log_lengthscale: -2.593\n",
      "Iter 36/100 - Loss: 40.404   log_lengthscale: -2.621\n",
      "Iter 37/100 - Loss: 19.685   log_lengthscale: -2.648\n",
      "Iter 38/100 - Loss: 31.478   log_lengthscale: -2.675\n",
      "Iter 39/100 - Loss: 25.603   log_lengthscale: -2.699\n",
      "Iter 40/100 - Loss: 33.331   log_lengthscale: -2.725\n",
      "Iter 41/100 - Loss: 34.884   log_lengthscale: -2.748\n",
      "Iter 42/100 - Loss: 37.618   log_lengthscale: -2.769\n",
      "Iter 43/100 - Loss: 30.241   log_lengthscale: -2.789\n",
      "Iter 44/100 - Loss: 30.618   log_lengthscale: -2.807\n",
      "Iter 45/100 - Loss: 26.245   log_lengthscale: -2.824\n",
      "Iter 46/100 - Loss: 33.188   log_lengthscale: -2.840\n",
      "Iter 47/100 - Loss: 25.540   log_lengthscale: -2.856\n",
      "Iter 48/100 - Loss: 18.985   log_lengthscale: -2.871\n",
      "Iter 49/100 - Loss: 23.412   log_lengthscale: -2.886\n",
      "Iter 50/100 - Loss: 24.618   log_lengthscale: -2.898\n"
     ]
    }
   ],
   "source": [
    "# Find optimal model hyperparameters\n",
    "model.train()\n",
    "optimizer = optim.Adam(model.parameters(), lr=0.1)\n",
    "optimizer.n_iter = 0\n",
    "for i in range(50):\n",
    "    optimizer.zero_grad()\n",
    "    output = model.forward(train_x)\n",
    "    loss = -model.marginal_log_likelihood(output, train_y)\n",
    "    loss.backward()\n",
    "    optimizer.n_iter += 1\n",
    "    print('Iter %d/100 - Loss: %.3f   log_lengthscale: %.3f' % (\n",
    "        i + 1, loss.data[0],\n",
    "        model.covar_module.log_lengthscale.data.squeeze()[0],\n",
    "    ))\n",
    "    optimizer.step()\n",
    "    \n",
    "# Set back to eval mode\n",
    "model.eval()\n",
    "None"
   ]
  },
  {
   "cell_type": "code",
   "execution_count": 8,
   "metadata": {
    "collapsed": false
   },
   "outputs": [
    {
     "data": {
      "image/png": "[encoded data removed]",
      "text/plain": [
       "<matplotlib.figure.Figure at 0x7f5dcbf82290>"
      ]
     },
     "metadata": {},
     "output_type": "display_data"
    }
   ],
   "source": [
    "f = plot_model_and_predictions(model)"
   ]
  },
  {
   "cell_type": "code",
   "execution_count": null,
   "metadata": {
    "collapsed": true
   },
   "outputs": [],
   "source": []
  }
 ],
 "metadata": {
  "anaconda-cloud": {},
  "kernelspec": {
   "display_name": "Python [default]",
   "language": "python",
   "name": "python2"
  },
  "language_info": {
   "codemirror_mode": {
    "name": "ipython",
    "version": 2
   },
   "file_extension": ".py",
   "mimetype": "text/x-python",
   "name": "python",
   "nbconvert_exporter": "python",
   "pygments_lexer": "ipython2",
   "version": "2.7.12"
  }
 },
 "nbformat": 4,
 "nbformat_minor": 1
}
