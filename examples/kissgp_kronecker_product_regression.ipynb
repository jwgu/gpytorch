{
 "cells": [
  {
   "cell_type": "code",
   "execution_count": 1,
   "metadata": {
    "collapsed": true
   },
   "outputs": [],
   "source": [
    "import math\n",
    "import torch\n",
    "import gpytorch\n",
    "import numpy\n",
    "from matplotlib import pyplot as plt\n",
    "from torch import nn, optim\n",
    "from torch.autograd import Variable\n",
    "from gpytorch.kernels import RBFKernel, GridInterpolationKernel\n",
    "from gpytorch.means import ConstantMean\n",
    "from gpytorch.likelihoods import GaussianLikelihood\n",
    "from gpytorch.random_variables import GaussianRandomVariable\n",
    "\n",
    "%matplotlib inline"
   ]
  },
  {
   "cell_type": "code",
   "execution_count": 2,
   "metadata": {
    "collapsed": true
   },
   "outputs": [],
   "source": [
    "n = 40\n",
    "train_x = torch.zeros(pow(n, 2), 2)\n",
    "for i in range(n):\n",
    "    for j in range(n):\n",
    "        train_x[i * n + j][0] = float(i) / (n-1)\n",
    "        train_x[i * n + j][1] = float(j) / (n-1)\n",
    "train_x = Variable(train_x)\n",
    "train_y = Variable(torch.sin(((train_x.data[:, 0] + train_x.data[:, 1]) * (2 * math.pi))))"
   ]
  },
  {
   "cell_type": "code",
   "execution_count": 3,
   "metadata": {
    "collapsed": false
   },
   "outputs": [
    {
     "data": {
      "text/plain": [
       "KissGPModel (\n",
       "  (likelihood): GaussianLikelihood (\n",
       "  )\n",
       "  (mean_module): ConstantMean (\n",
       "  )\n",
       "  (grid_covar_module): GridInterpolationKernel (\n",
       "    (base_kernel_module): RBFKernel (\n",
       "    )\n",
       "  )\n",
       ")"
      ]
     },
     "execution_count": 3,
     "metadata": {},
     "output_type": "execute_result"
    }
   ],
   "source": [
    "class KissGPModel(gpytorch.GPModel):\n",
    "    def __init__(self):\n",
    "        super(KissGPModel, self).__init__(GaussianLikelihood(log_noise_bounds=(-5, 5)))\n",
    "        self.mean_module = ConstantMean(constant_bounds=(-1, 1))\n",
    "        covar_module = RBFKernel(log_lengthscale_bounds=(-3, 5))\n",
    "        self.grid_covar_module = GridInterpolationKernel(covar_module)\n",
    "        self.register_parameter('log_outputscale', nn.Parameter(torch.Tensor([0])), bounds=(-1, 1))\n",
    "        self.initialize_interpolation_grid(20, grid_bounds=[(0, 1), (0, 1)])\n",
    "\n",
    "    def forward(self, x):\n",
    "        mean_x = self.mean_module(x)\n",
    "        covar_x = self.grid_covar_module(x)\n",
    "        covar_x = covar_x.mul(self.log_outputscale.exp())\n",
    "        return GaussianRandomVariable(mean_x, covar_x)\n",
    "    \n",
    "model = KissGPModel()\n",
    "model.condition(train_x, train_y)"
   ]
  },
  {
   "cell_type": "code",
   "execution_count": 4,
   "metadata": {
    "collapsed": true
   },
   "outputs": [],
   "source": [
    "def plot_model_and_predictions(model):\n",
    "    n = 10\n",
    "    test_x = Variable(torch.zeros(int(pow(n, 2)), 2))\n",
    "    for i in range(n):\n",
    "        for j in range(n):\n",
    "            test_x.data[i * n + j][0] = float(i) / (n-1)\n",
    "            test_x.data[i * n + j][1] = float(j) / (n-1)\n",
    "\n",
    "    observed_pred = model(test_x)\n",
    "    pred_labels = observed_pred.mean().view(n, n).data.numpy()\n",
    "    \n",
    "    test_y_actual = torch.sin(((test_x.data[:, 0] + test_x.data[:, 1]) * (2 * math.pi))).numpy().reshape(n, n)\n",
    "    delta_y = numpy.absolute(pred_labels - test_y_actual)\n",
    "    \n",
    "    def ax_plot(f, ax, y_labels, title):\n",
    "        im = ax.imshow(y_labels)\n",
    "        ax.set_title(title)\n",
    "        f.colorbar(im)\n",
    "    \n",
    "    f, observed_ax = plt.subplots(1, 1, figsize=(4, 3))\n",
    "    ax_plot(f, observed_ax, pred_labels, 'Predicted Values (Likelihood)')\n",
    "    \n",
    "    f, observed_ax2 = plt.subplots(1, 1, figsize=(4, 3))\n",
    "    ax_plot(f, observed_ax2, test_y_actual, 'Actual Values (Likelihood)')\n",
    "\n",
    "    f, observed_ax3 = plt.subplots(1, 1, figsize=(4, 3))\n",
    "    ax_plot(f, observed_ax3, delta_y, 'Absolute Error Surface')\n",
    "    \n",
    "    return f"
   ]
  },
  {
   "cell_type": "code",
   "execution_count": 5,
   "metadata": {
    "collapsed": false
   },
   "outputs": [
    {
     "name": "stderr",
     "output_type": "stream",
     "text": [
      "/home/gpleiss/Dropbox/workspace/gpytorch/gpytorch/kernels/rbf_kernel.py:42: UserWarning: other is not broadcastable to self, but they have the same number of elements.  Falling back to deprecated pointwise behavior.\n",
      "  grad.mul_(grad_output.transpose(0, 1))\n"
     ]
    },
    {
     "name": "stdout",
     "output_type": "stream",
     "text": [
      "Iter 1/60 - Loss: 1726.916\n",
      "Iter 2/60 - Loss: 1643.580\n",
      "Iter 3/60 - Loss: 1568.952\n",
      "Iter 4/60 - Loss: 1494.047\n",
      "Iter 5/60 - Loss: 1414.487\n",
      "Iter 6/60 - Loss: 1330.472\n",
      "Iter 7/60 - Loss: 1240.694\n",
      "Iter 8/60 - Loss: 1145.976\n",
      "Iter 9/60 - Loss: 1037.426\n",
      "Iter 10/60 - Loss: 918.939\n",
      "Iter 11/60 - Loss: 799.713\n",
      "Iter 12/60 - Loss: 705.306\n",
      "Iter 13/60 - Loss: 604.281\n",
      "Iter 14/60 - Loss: 512.899\n",
      "Iter 15/60 - Loss: 418.265\n",
      "Iter 16/60 - Loss: 342.382\n",
      "Iter 17/60 - Loss: 257.833\n",
      "Iter 18/60 - Loss: 163.529\n",
      "Iter 19/60 - Loss: 87.576\n",
      "Iter 20/60 - Loss: 20.487\n",
      "Iter 21/60 - Loss: -60.796\n",
      "Iter 22/60 - Loss: -159.812\n",
      "Iter 23/60 - Loss: -223.631\n",
      "Iter 24/60 - Loss: -303.061\n",
      "Iter 25/60 - Loss: -380.917\n",
      "Iter 26/60 - Loss: -447.300\n",
      "Iter 27/60 - Loss: -533.480\n",
      "Iter 28/60 - Loss: -583.505\n",
      "Iter 29/60 - Loss: -666.347\n",
      "Iter 30/60 - Loss: -729.733\n",
      "Iter 31/60 - Loss: -777.295\n",
      "Iter 32/60 - Loss: -852.723\n",
      "Iter 33/60 - Loss: -911.544\n",
      "Iter 34/60 - Loss: -965.126\n",
      "Iter 35/60 - Loss: -991.594\n",
      "Iter 36/60 - Loss: -993.757\n",
      "Iter 37/60 - Loss: -1047.275\n",
      "Iter 38/60 - Loss: -1094.733\n",
      "Iter 39/60 - Loss: -1114.321\n",
      "Iter 40/60 - Loss: -1188.068\n",
      "Iter 41/60 - Loss: -1252.553\n",
      "Iter 42/60 - Loss: -1269.405\n",
      "Iter 43/60 - Loss: -1329.553\n",
      "Iter 44/60 - Loss: -1296.001\n",
      "Iter 45/60 - Loss: -1355.125\n",
      "Iter 46/60 - Loss: -1382.342\n",
      "Iter 47/60 - Loss: -1456.288\n",
      "Iter 48/60 - Loss: -1491.871\n",
      "Iter 49/60 - Loss: -1491.132\n",
      "Iter 50/60 - Loss: -1487.292\n",
      "Iter 51/60 - Loss: -1545.727\n",
      "Iter 52/60 - Loss: -1532.143\n",
      "Iter 53/60 - Loss: -1593.494\n",
      "Iter 54/60 - Loss: -1591.704\n",
      "Iter 55/60 - Loss: -1630.824\n",
      "Iter 56/60 - Loss: -1640.967\n",
      "Iter 57/60 - Loss: -1621.452\n",
      "Iter 58/60 - Loss: -1703.248\n",
      "Iter 59/60 - Loss: -1747.877\n",
      "Iter 60/60 - Loss: -1686.522\n"
     ]
    }
   ],
   "source": [
    "# Optimize the model\n",
    "model.train()\n",
    "optimizer = optim.Adam(model.parameters(), lr=0.1)\n",
    "optimizer.n_iter = 0\n",
    "for i in range(60):\n",
    "    optimizer.zero_grad()\n",
    "    output = model(train_x)\n",
    "    loss = -model.marginal_log_likelihood(output, train_y)\n",
    "    loss.backward()\n",
    "    optimizer.n_iter += 1\n",
    "    print('Iter %d/60 - Loss: %.3f' % (i + 1, loss.data[0]))\n",
    "    optimizer.step()\n",
    "\n",
    "_ = model.eval()"
   ]
  },
  {
   "cell_type": "code",
   "execution_count": 6,
   "metadata": {
    "collapsed": false
   },
   "outputs": [
    {
     "data": {
      "image/png": "[encoded data removed]",
      "text/plain": [
       "<matplotlib.figure.Figure at 0x7f45906c66d0>"
      ]
     },
     "metadata": {},
     "output_type": "display_data"
    },
    {
     "data": {
      "image/png": "[encoded data removed]",
      "text/plain": [
       "<matplotlib.figure.Figure at 0x7f451dc45b10>"
      ]
     },
     "metadata": {},
     "output_type": "display_data"
    },
    {
     "data": {
      "image/png": "[encoded data removed]",
      "text/plain": [
       "<matplotlib.figure.Figure at 0x7f451dbd4f10>"
      ]
     },
     "metadata": {},
     "output_type": "display_data"
    }
   ],
   "source": [
    "f = plot_model_and_predictions(model)"
   ]
  },
  {
   "cell_type": "code",
   "execution_count": null,
   "metadata": {
    "collapsed": true
   },
   "outputs": [],
   "source": []
  }
 ],
 "metadata": {
  "anaconda-cloud": {},
  "kernelspec": {
   "display_name": "Python [default]",
   "language": "python",
   "name": "python2"
  },
  "language_info": {
   "codemirror_mode": {
    "name": "ipython",
    "version": 2
   },
   "file_extension": ".py",
   "mimetype": "text/x-python",
   "name": "python",
   "nbconvert_exporter": "python",
   "pygments_lexer": "ipython2",
   "version": "2.7.12"
  }
 },
 "nbformat": 4,
 "nbformat_minor": 2
}
