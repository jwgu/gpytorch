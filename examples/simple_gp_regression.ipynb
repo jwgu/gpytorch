{
 "cells": [
  {
   "cell_type": "code",
   "execution_count": 1,
   "metadata": {
    "collapsed": true
   },
   "outputs": [],
   "source": [
    "import math\n",
    "import torch\n",
    "import gpytorch\n",
    "from matplotlib import pyplot as plt\n",
    "\n",
    "%matplotlib inline\n",
    "%load_ext autoreload\n",
    "%autoreload 2"
   ]
  },
  {
   "cell_type": "code",
   "execution_count": 2,
   "metadata": {
    "collapsed": true
   },
   "outputs": [],
   "source": [
    "from torch.autograd import Variable\n",
    "train_x = Variable(torch.linspace(0, 1, 11))\n",
    "train_y = Variable(torch.sin(train_x.data * (2 * math.pi)) + torch.randn(train_x.size()) * 0.2)"
   ]
  },
  {
   "cell_type": "code",
   "execution_count": 3,
   "metadata": {
    "collapsed": true
   },
   "outputs": [],
   "source": [
    "from torch import optim\n",
    "from gpytorch.kernels import RBFKernel\n",
    "from gpytorch.means import ConstantMean\n",
    "from gpytorch.likelihoods import GaussianLikelihood\n",
    "from gpytorch.random_variables import GaussianRandomVariable"
   ]
  },
  {
   "cell_type": "code",
   "execution_count": 4,
   "metadata": {
    "collapsed": false
   },
   "outputs": [
    {
     "data": {
      "text/plain": [
       "ExactGPModel (\n",
       "  (likelihood): GaussianLikelihood (\n",
       "  )\n",
       "  (mean_module): ConstantMean (\n",
       "  )\n",
       "  (covar_module): RBFKernel (\n",
       "  )\n",
       ")"
      ]
     },
     "execution_count": 4,
     "metadata": {},
     "output_type": "execute_result"
    }
   ],
   "source": [
    "class ExactGPModel(gpytorch.GPModel):\n",
    "    def __init__(self):\n",
    "        super(ExactGPModel,self).__init__(GaussianLikelihood(log_noise_bounds=(-5, 5)))\n",
    "        self.mean_module = ConstantMean(constant_bounds=(-1, 1))\n",
    "        self.covar_module = RBFKernel(log_lengthscale_bounds=(-5, 5))\n",
    "    \n",
    "    def forward(self,x):\n",
    "        mean_x = self.mean_module(x)\n",
    "        covar_x = self.covar_module(x)\n",
    "        return GaussianRandomVariable(mean_x, covar_x)\n",
    "\n",
    "model = ExactGPModel()\n",
    "model.condition(train_x, train_y)"
   ]
  },
  {
   "cell_type": "code",
   "execution_count": 5,
   "metadata": {
    "collapsed": true
   },
   "outputs": [],
   "source": [
    "def plot_model_and_predictions(model, plot_train_data=True):\n",
    "    f, observed_ax = plt.subplots(1, 1, figsize=(4, 3))\n",
    "    test_x = Variable(torch.linspace(0, 1, 51))\n",
    "    observed_pred = model(test_x)\n",
    "\n",
    "    def ax_plot(ax, rand_var, title):\n",
    "        lower, upper = rand_var.confidence_region()\n",
    "        if plot_train_data:\n",
    "            ax.plot(train_x.data.numpy(), train_y.data.numpy(), 'k*')\n",
    "        ax.plot(test_x.data.numpy(), rand_var.mean().data.numpy(), 'b')\n",
    "        ax.fill_between(test_x.data.numpy(), lower.data.numpy(), upper.data.numpy(), alpha=0.5)\n",
    "        ax.set_ylim([-3, 3])\n",
    "        ax.legend(['Observed Data', 'Mean', 'Confidence'])\n",
    "        ax.set_title(title)\n",
    "    \n",
    "    ax_plot(observed_ax, observed_pred, 'Observed Values (Likelihood)')\n",
    "    \n",
    "    return f"
   ]
  },
  {
   "cell_type": "code",
   "execution_count": 6,
   "metadata": {
    "collapsed": false
   },
   "outputs": [
    {
     "data": {
      "image/png": "[encoded data removed]",
      "text/plain": [
       "<matplotlib.figure.Figure at 0x7f344fd21690>"
      ]
     },
     "metadata": {},
     "output_type": "display_data"
    }
   ],
   "source": [
    "fig = plot_model_and_predictions(model, plot_train_data=False)"
   ]
  },
  {
   "cell_type": "code",
   "execution_count": 7,
   "metadata": {
    "collapsed": false,
    "scrolled": false
   },
   "outputs": [
    {
     "name": "stdout",
     "output_type": "stream",
     "text": [
      "Iter 1/20 - Loss: 15.584   log_lengthscale: 0.000   log_noise: 0.000\n",
      "Iter 2/20 - Loss: 13.038   log_lengthscale: -0.100   log_noise: -0.100\n",
      "Iter 3/20 - Loss: 12.977   log_lengthscale: -0.199   log_noise: -0.200\n",
      "Iter 4/20 - Loss: 13.258   log_lengthscale: -0.299   log_noise: -0.300\n",
      "Iter 5/20 - Loss: 12.073   log_lengthscale: -0.399   log_noise: -0.399\n",
      "Iter 6/20 - Loss: 12.211   log_lengthscale: -0.499   log_noise: -0.499\n",
      "Iter 7/20 - Loss: 11.517   log_lengthscale: -0.600   log_noise: -0.598\n",
      "Iter 8/20 - Loss: 11.017   log_lengthscale: -0.700   log_noise: -0.695\n",
      "Iter 9/20 - Loss: 11.018   log_lengthscale: -0.801   log_noise: -0.791\n",
      "Iter 10/20 - Loss: 10.493   log_lengthscale: -0.903   log_noise: -0.887\n",
      "Iter 11/20 - Loss: 9.655   log_lengthscale: -1.006   log_noise: -0.982\n",
      "Iter 12/20 - Loss: 10.570   log_lengthscale: -1.111   log_noise: -1.076\n",
      "Iter 13/20 - Loss: 9.263   log_lengthscale: -1.216   log_noise: -1.171\n",
      "Iter 14/20 - Loss: 9.440   log_lengthscale: -1.322   log_noise: -1.266\n",
      "Iter 15/20 - Loss: 9.619   log_lengthscale: -1.429   log_noise: -1.361\n",
      "Iter 16/20 - Loss: 8.695   log_lengthscale: -1.537   log_noise: -1.456\n",
      "Iter 17/20 - Loss: 8.766   log_lengthscale: -1.646   log_noise: -1.552\n",
      "Iter 18/20 - Loss: 8.754   log_lengthscale: -1.755   log_noise: -1.649\n",
      "Iter 19/20 - Loss: 9.235   log_lengthscale: -1.862   log_noise: -1.748\n",
      "Iter 20/20 - Loss: 6.973   log_lengthscale: -1.963   log_noise: -1.846\n",
      "Iter 21/20 - Loss: 7.413   log_lengthscale: -2.056   log_noise: -1.946\n",
      "Iter 22/20 - Loss: 7.216   log_lengthscale: -2.144   log_noise: -2.046\n",
      "Iter 23/20 - Loss: 6.866   log_lengthscale: -2.224   log_noise: -2.146\n",
      "Iter 24/20 - Loss: 8.260   log_lengthscale: -2.293   log_noise: -2.247\n",
      "Iter 25/20 - Loss: 7.757   log_lengthscale: -2.350   log_noise: -2.349\n",
      "Iter 26/20 - Loss: 7.695   log_lengthscale: -2.395   log_noise: -2.452\n",
      "Iter 27/20 - Loss: 6.178   log_lengthscale: -2.423   log_noise: -2.554\n",
      "Iter 28/20 - Loss: 4.735   log_lengthscale: -2.436   log_noise: -2.656\n",
      "Iter 29/20 - Loss: 7.784   log_lengthscale: -2.432   log_noise: -2.757\n",
      "Iter 30/20 - Loss: 4.794   log_lengthscale: -2.414   log_noise: -2.859\n",
      "Iter 31/20 - Loss: 3.631   log_lengthscale: -2.385   log_noise: -2.961\n",
      "Iter 32/20 - Loss: 3.150   log_lengthscale: -2.349   log_noise: -3.060\n",
      "Iter 33/20 - Loss: 2.124   log_lengthscale: -2.304   log_noise: -3.158\n",
      "Iter 34/20 - Loss: 3.207   log_lengthscale: -2.253   log_noise: -3.255\n",
      "Iter 35/20 - Loss: 4.457   log_lengthscale: -2.197   log_noise: -3.350\n",
      "Iter 36/20 - Loss: 2.439   log_lengthscale: -2.138   log_noise: -3.443\n",
      "Iter 37/20 - Loss: 2.437   log_lengthscale: -2.087   log_noise: -3.535\n",
      "Iter 38/20 - Loss: 5.383   log_lengthscale: -2.044   log_noise: -3.624\n",
      "Iter 39/20 - Loss: 4.829   log_lengthscale: -2.012   log_noise: -3.711\n",
      "Iter 40/20 - Loss: 0.645   log_lengthscale: -1.993   log_noise: -3.796\n",
      "Iter 41/20 - Loss: 1.515   log_lengthscale: -1.998   log_noise: -3.879\n",
      "Iter 42/20 - Loss: 4.382   log_lengthscale: -2.014   log_noise: -3.959\n",
      "Iter 43/20 - Loss: 4.772   log_lengthscale: -2.040   log_noise: -4.038\n",
      "Iter 44/20 - Loss: 3.429   log_lengthscale: -2.071   log_noise: -4.111\n",
      "Iter 45/20 - Loss: 4.471   log_lengthscale: -2.107   log_noise: -4.182\n",
      "Iter 46/20 - Loss: 2.610   log_lengthscale: -2.145   log_noise: -4.249\n",
      "Iter 47/20 - Loss: 1.224   log_lengthscale: -2.173   log_noise: -4.312\n",
      "Iter 48/20 - Loss: 3.753   log_lengthscale: -2.189   log_noise: -4.370\n",
      "Iter 49/20 - Loss: 3.989   log_lengthscale: -2.191   log_noise: -4.423\n",
      "Iter 50/20 - Loss: 1.413   log_lengthscale: -2.183   log_noise: -4.471\n"
     ]
    }
   ],
   "source": [
    "# Find optimal model hyperparameters\n",
    "model.train()\n",
    "optimizer = optim.Adam(model.parameters(), lr=0.1)\n",
    "optimizer.n_iter = 0\n",
    "for i in range(50):\n",
    "    optimizer.zero_grad()\n",
    "    output = model(train_x)\n",
    "    loss = -model.marginal_log_likelihood(output, train_y)\n",
    "    loss.backward()\n",
    "    optimizer.n_iter += 1\n",
    "    print('Iter %d/20 - Loss: %.3f   log_lengthscale: %.3f   log_noise: %.3f' % (\n",
    "        i + 1, loss.data[0],\n",
    "        model.covar_module.log_lengthscale.data[0, 0],\n",
    "        model.likelihood.log_noise.data[0]\n",
    "    ))\n",
    "    optimizer.step()\n",
    "    \n",
    "# Set back to eval mode\n",
    "model.eval()\n",
    "None"
   ]
  },
  {
   "cell_type": "code",
   "execution_count": 8,
   "metadata": {
    "collapsed": false,
    "scrolled": false
   },
   "outputs": [
    {
     "data": {
      "image/png": "[encoded data removed]",
      "text/plain": [
       "<matplotlib.figure.Figure at 0x7f344fc48090>"
      ]
     },
     "metadata": {},
     "output_type": "display_data"
    }
   ],
   "source": [
    "fig = plot_model_and_predictions(model)"
   ]
  }
 ],
 "metadata": {
  "anaconda-cloud": {},
  "kernelspec": {
   "display_name": "Python [default]",
   "language": "python",
   "name": "python2"
  },
  "language_info": {
   "codemirror_mode": {
    "name": "ipython",
    "version": 2
   },
   "file_extension": ".py",
   "mimetype": "text/x-python",
   "name": "python",
   "nbconvert_exporter": "python",
   "pygments_lexer": "ipython2",
   "version": "2.7.12"
  }
 },
 "nbformat": 4,
 "nbformat_minor": 1
}
