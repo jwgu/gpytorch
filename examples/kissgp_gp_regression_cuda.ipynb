{
 "cells": [
  {
   "cell_type": "code",
   "execution_count": 1,
   "metadata": {
    "collapsed": true
   },
   "outputs": [],
   "source": [
    "import math\n",
    "import torch\n",
    "import gpytorch\n",
    "from matplotlib import pyplot as plt\n",
    "from torch import nn, optim\n",
    "from torch.autograd import Variable\n",
    "from gpytorch.kernels import RBFKernel, GridInterpolationKernel\n",
    "from gpytorch.means import ConstantMean\n",
    "from gpytorch.likelihoods import GaussianLikelihood\n",
    "from gpytorch.random_variables import GaussianRandomVariable\n",
    "\n",
    "%matplotlib inline"
   ]
  },
  {
   "cell_type": "code",
   "execution_count": 2,
   "metadata": {
    "collapsed": false
   },
   "outputs": [],
   "source": [
    "train_x = Variable(torch.linspace(0, 1, 1000))\n",
    "train_y = Variable(torch.sin(train_x.data * (4 * math.pi)) + torch.randn(train_x.size()) * 0.2)\n",
    "train_x = train_x.cuda()\n",
    "train_y = train_y.cuda()"
   ]
  },
  {
   "cell_type": "code",
   "execution_count": 3,
   "metadata": {
    "collapsed": false
   },
   "outputs": [
    {
     "data": {
      "text/plain": [
       "KissGPModel (\n",
       "  (likelihood): GaussianLikelihood (\n",
       "  )\n",
       "  (mean_module): ConstantMean (\n",
       "  )\n",
       "  (grid_covar_module): GridInterpolationKernel (\n",
       "    (base_kernel_module): RBFKernel (\n",
       "    )\n",
       "  )\n",
       ")"
      ]
     },
     "execution_count": 3,
     "metadata": {},
     "output_type": "execute_result"
    }
   ],
   "source": [
    "class KissGPModel(gpytorch.GPModel):\n",
    "    def __init__(self):\n",
    "        super(KissGPModel, self).__init__(GaussianLikelihood(log_noise_bounds=(-5, 5)))\n",
    "        self.mean_module = ConstantMean(constant_bounds=(-1, 1))\n",
    "        covar_module = RBFKernel(log_lengthscale_bounds=(-3, 5))\n",
    "        self.grid_covar_module = GridInterpolationKernel(covar_module)\n",
    "        self.initialize_interpolation_grid(500, grid_bounds=[(0, 1)])\n",
    "\n",
    "    def forward(self, x):\n",
    "        mean_x = self.mean_module(x)\n",
    "        covar_x = self.grid_covar_module(x)\n",
    "        return GaussianRandomVariable(mean_x, covar_x)\n",
    "    \n",
    "model = KissGPModel().cuda()\n",
    "model.condition(train_x, train_y)"
   ]
  },
  {
   "cell_type": "code",
   "execution_count": 4,
   "metadata": {
    "collapsed": false,
    "scrolled": false
   },
   "outputs": [
    {
     "name": "stderr",
     "output_type": "stream",
     "text": [
      "/home/gpleiss/Dropbox/workspace/gpytorch/gpytorch/kernels/rbf_kernel.py:42: UserWarning: other is not broadcastable to self, but they have the same number of elements.  Falling back to deprecated pointwise behavior.\n",
      "  grad.mul_(grad_output.transpose(0, 1))\n"
     ]
    },
    {
     "name": "stdout",
     "output_type": "stream",
     "text": [
      "Iter 1/30 - Loss: 1.150\n",
      "Iter 2/30 - Loss: 1.124\n",
      "Iter 3/30 - Loss: 1.090\n",
      "Iter 4/30 - Loss: 1.064\n",
      "Iter 5/30 - Loss: 1.032\n",
      "Iter 6/30 - Loss: 1.015\n",
      "Iter 7/30 - Loss: 0.984\n",
      "Iter 8/30 - Loss: 0.967\n",
      "Iter 9/30 - Loss: 0.934\n",
      "Iter 10/30 - Loss: 0.910\n",
      "Iter 11/30 - Loss: 0.887\n",
      "Iter 12/30 - Loss: 0.856\n",
      "Iter 13/30 - Loss: 0.815\n",
      "Iter 14/30 - Loss: 0.756\n",
      "Iter 15/30 - Loss: 0.690\n",
      "Iter 16/30 - Loss: 0.613\n",
      "Iter 17/30 - Loss: 0.524\n",
      "Iter 18/30 - Loss: 0.425\n",
      "Iter 19/30 - Loss: 0.344\n",
      "Iter 20/30 - Loss: 0.271\n",
      "Iter 21/30 - Loss: 0.196\n",
      "Iter 22/30 - Loss: 0.143\n",
      "Iter 23/30 - Loss: 0.095\n",
      "Iter 24/30 - Loss: 0.052\n",
      "Iter 25/30 - Loss: 0.009\n",
      "Iter 26/30 - Loss: -0.025\n",
      "Iter 27/30 - Loss: -0.053\n",
      "Iter 28/30 - Loss: -0.079\n",
      "Iter 29/30 - Loss: -0.104\n",
      "Iter 30/30 - Loss: -0.109\n",
      "CPU times: user 2.99 s, sys: 4.77 s, total: 7.76 s\n",
      "Wall time: 7.88 s\n"
     ]
    }
   ],
   "source": [
    "# Optimize the model\n",
    "def train():\n",
    "    model.train()\n",
    "    optimizer = optim.Adam(model.parameters(), lr=0.1)\n",
    "    optimizer.n_iter = 0\n",
    "    for i in range(30):\n",
    "        optimizer.zero_grad()\n",
    "        output = model(train_x)\n",
    "        loss = -model.marginal_log_likelihood(output, train_y) * 1. / len(train_x)\n",
    "        loss.backward()\n",
    "        optimizer.n_iter += 1\n",
    "        print('Iter %d/30 - Loss: %.3f' % (i + 1, loss.data[0]))\n",
    "        optimizer.step()\n",
    "\n",
    "    _ = model.eval()\n",
    "    \n",
    "%time train()"
   ]
  },
  {
   "cell_type": "code",
   "execution_count": 5,
   "metadata": {
    "collapsed": true
   },
   "outputs": [],
   "source": [
    "def plot_model_and_predictions(model, plot_train_data=True):\n",
    "    f, observed_ax = plt.subplots(1, 1, figsize=(4, 3))\n",
    "    test_x = Variable(torch.linspace(0, 1, 51)).cuda()\n",
    "    observed_pred = model(test_x)\n",
    "\n",
    "    def ax_plot(ax, rand_var, title):\n",
    "        lower, upper = rand_var.confidence_region()\n",
    "        if plot_train_data:\n",
    "            ax.plot(train_x.data.cpu().numpy(), train_y.data.cpu().numpy(), 'k*')\n",
    "        ax.plot(test_x.data.cpu().numpy(), rand_var.mean().data.cpu().numpy(), 'b')\n",
    "        ax.fill_between(test_x.data.cpu().numpy(), lower.data.cpu().numpy(), upper.data.cpu().numpy(), alpha=0.5)\n",
    "        ax.set_ylim([-3, 3])\n",
    "        ax.legend(['Observed Data', 'Mean', 'Confidence'])\n",
    "        ax.set_title(title)\n",
    "    \n",
    "    ax_plot(observed_ax, observed_pred, 'Observed Values (Likelihood)')\n",
    "    \n",
    "    return f"
   ]
  },
  {
   "cell_type": "code",
   "execution_count": 7,
   "metadata": {
    "collapsed": false
   },
   "outputs": [
    {
     "data": {
      "image/png": "[encoded data removed]",
      "text/plain": [
       "<matplotlib.figure.Figure at 0x7f66e00584d0>"
      ]
     },
     "metadata": {},
     "output_type": "display_data"
    }
   ],
   "source": [
    "f = plot_model_and_predictions(model, plot_train_data=True)"
   ]
  },
  {
   "cell_type": "code",
   "execution_count": null,
   "metadata": {
    "collapsed": true
   },
   "outputs": [],
   "source": []
  }
 ],
 "metadata": {
  "anaconda-cloud": {},
  "kernelspec": {
   "display_name": "Python [default]",
   "language": "python",
   "name": "python2"
  },
  "language_info": {
   "codemirror_mode": {
    "name": "ipython",
    "version": 2
   },
   "file_extension": ".py",
   "mimetype": "text/x-python",
   "name": "python",
   "nbconvert_exporter": "python",
   "pygments_lexer": "ipython2",
   "version": "2.7.12"
  }
 },
 "nbformat": 4,
 "nbformat_minor": 2
}
