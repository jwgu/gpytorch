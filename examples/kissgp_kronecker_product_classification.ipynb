{
 "cells": [
  {
   "cell_type": "code",
   "execution_count": 1,
   "metadata": {
    "collapsed": true
   },
   "outputs": [],
   "source": [
    "import math\n",
    "import torch\n",
    "import gpytorch\n",
    "from matplotlib import pyplot as plt\n",
    "\n",
    "%matplotlib inline\n",
    "%load_ext autoreload\n",
    "%autoreload 2"
   ]
  },
  {
   "cell_type": "code",
   "execution_count": 2,
   "metadata": {
    "collapsed": true
   },
   "outputs": [],
   "source": [
    "from torch.autograd import Variable\n",
    "\n",
    "n = 30\n",
    "train_x = torch.zeros(int(pow(n, 2)), 2)\n",
    "train_y = torch.zeros(int(pow(n, 2)))\n",
    "for i in range(n):\n",
    "    for j in range(n):\n",
    "        train_x[i * n + j][0] = float(i) / (n - 1)\n",
    "        train_x[i * n + j][1] = float(j) / (n - 1)\n",
    "        train_y[i * n + j] = pow(-1, int(3 * i / n + int(3 * j / n)))\n",
    "train_x = Variable(train_x)\n",
    "train_y = Variable(train_y)"
   ]
  },
  {
   "cell_type": "code",
   "execution_count": 3,
   "metadata": {
    "collapsed": true
   },
   "outputs": [],
   "source": [
    "from torch import nn, optim\n",
    "from gpytorch.kernels import RBFKernel, GridInterpolationKernel\n",
    "from gpytorch.means import ConstantMean\n",
    "from gpytorch.likelihoods import GaussianLikelihood, BernoulliLikelihood\n",
    "from gpytorch.random_variables import GaussianRandomVariable"
   ]
  },
  {
   "cell_type": "code",
   "execution_count": 4,
   "metadata": {
    "collapsed": false
   },
   "outputs": [
    {
     "name": "stderr",
     "output_type": "stream",
     "text": [
      "/home/gpleiss/anaconda2/lib/python2.7/site-packages/torch/autograd/_functions/basic_ops.py:48: UserWarning: self and other not broadcastable, but have the same number of elements.  Falling back to deprecated pointwise behavior.\n",
      "  return a.mul(b)\n"
     ]
    },
    {
     "data": {
      "text/plain": [
       "GPClassificationModel (\n",
       "  (likelihood): BernoulliLikelihood (\n",
       "  )\n",
       "  (mean_module): ConstantMean (\n",
       "  )\n",
       "  (covar_module): RBFKernel (\n",
       "  )\n",
       "  (grid_covar_module): GridInterpolationKernel (\n",
       "    (base_kernel_module): RBFKernel (\n",
       "    )\n",
       "  )\n",
       ")"
      ]
     },
     "execution_count": 4,
     "metadata": {},
     "output_type": "execute_result"
    }
   ],
   "source": [
    "class GPClassificationModel(gpytorch.GPModel):\n",
    "    def __init__(self):\n",
    "        super(GPClassificationModel,self).__init__(BernoulliLikelihood())\n",
    "        self.mean_module = ConstantMean()\n",
    "        self.covar_module = RBFKernel(log_lengthscale_bounds=(-6, 6))\n",
    "        self.grid_covar_module = GridInterpolationKernel(self.covar_module)\n",
    "        self.register_parameter('log_outputscale', nn.Parameter(torch.Tensor([0])), bounds=(-6,6))\n",
    "        self.initialize_interpolation_grid(10, [(0, 1), (0, 1)])\n",
    "    \n",
    "    def forward(self,x):\n",
    "        mean_x = self.mean_module(x)\n",
    "        covar_x = self.grid_covar_module(x)\n",
    "        covar_x = covar_x.mul(self.log_outputscale.exp())\n",
    "        latent_pred = GaussianRandomVariable(mean_x, covar_x)\n",
    "        return latent_pred\n",
    "\n",
    "model = GPClassificationModel()\n",
    "model.condition(train_x, train_y)"
   ]
  },
  {
   "cell_type": "code",
   "execution_count": 5,
   "metadata": {
    "collapsed": true
   },
   "outputs": [],
   "source": [
    "def plot_model_and_predictions(model, plot_train_data=True):\n",
    "    f, observed_ax = plt.subplots(1, 1, figsize=(4, 3))\n",
    "    n = 100\n",
    "    test_x = Variable(torch.zeros(int(pow(n, 2)), 2))\n",
    "    for i in range(n):\n",
    "        for j in range(n):\n",
    "            test_x.data[i * n + j][0] = float(i) / (n-1)\n",
    "            test_x.data[i * n + j][1] = float(j) / (n-1)\n",
    "    observed_pred = model(test_x)\n",
    "\n",
    "    def ax_plot(ax, rand_var, title):\n",
    "        pred_labels = rand_var.mean().ge(0.5).float().mul(2).sub(1).data.numpy()\n",
    "        color = []\n",
    "        for i in range(len(pred_labels)):\n",
    "            if pred_labels[i] == 1:\n",
    "                color.append('y')\n",
    "            else:\n",
    "                color.append('r')\n",
    "        ax.scatter(test_x.data[:, 0].numpy(), test_x.data[:, 1].numpy(), color=color, s=1)\n",
    "        ax.set_ylim([-0.5, 1.5])\n",
    "        ax.set_title(title)\n",
    "    \n",
    "    ax_plot(observed_ax, observed_pred, 'Predicted Values')\n",
    "    \n",
    "    return f"
   ]
  },
  {
   "cell_type": "code",
   "execution_count": 6,
   "metadata": {
    "collapsed": false
   },
   "outputs": [
    {
     "name": "stderr",
     "output_type": "stream",
     "text": [
      "/home/gpleiss/Dropbox/workspace/gpytorch/gpytorch/kernels/rbf_kernel.py:42: UserWarning: other is not broadcastable to self, but they have the same number of elements.  Falling back to deprecated pointwise behavior.\n",
      "  grad.mul_(grad_output.transpose(0, 1))\n"
     ]
    },
    {
     "name": "stdout",
     "output_type": "stream",
     "text": [
      "Iter 1/200 - Loss: 176349.766   log_lengthscale: 0.000\n",
      "Iter 2/200 - Loss: 36633.660   log_lengthscale: -0.200\n",
      "Iter 3/200 - Loss: 7618.200   log_lengthscale: -0.396\n",
      "Iter 4/200 - Loss: 9065.228   log_lengthscale: -0.568\n",
      "Iter 5/200 - Loss: 8885.094   log_lengthscale: -0.735\n",
      "Iter 6/200 - Loss: 10976.627   log_lengthscale: -0.896\n",
      "Iter 7/200 - Loss: 7028.753   log_lengthscale: -1.047\n",
      "Iter 8/200 - Loss: 7506.539   log_lengthscale: -1.189\n",
      "Iter 9/200 - Loss: 7477.416   log_lengthscale: -1.320\n",
      "Iter 10/200 - Loss: 6561.713   log_lengthscale: -1.449\n",
      "Iter 11/200 - Loss: 5306.704   log_lengthscale: -1.572\n",
      "Iter 12/200 - Loss: 5884.048   log_lengthscale: -1.687\n",
      "Iter 13/200 - Loss: 4384.942   log_lengthscale: -1.795\n",
      "Iter 14/200 - Loss: 3501.766   log_lengthscale: -1.897\n",
      "Iter 15/200 - Loss: 3085.857   log_lengthscale: -1.990\n",
      "Iter 16/200 - Loss: 3003.724   log_lengthscale: -2.077\n",
      "Iter 17/200 - Loss: 2627.504   log_lengthscale: -2.156\n",
      "Iter 18/200 - Loss: 2703.900   log_lengthscale: -2.229\n",
      "Iter 19/200 - Loss: 2229.358   log_lengthscale: -2.296\n",
      "Iter 20/200 - Loss: 2095.532   log_lengthscale: -2.358\n",
      "Iter 21/200 - Loss: 2132.945   log_lengthscale: -2.415\n",
      "Iter 22/200 - Loss: 2132.060   log_lengthscale: -2.467\n",
      "Iter 23/200 - Loss: 1691.820   log_lengthscale: -2.516\n",
      "Iter 24/200 - Loss: 1813.302   log_lengthscale: -2.561\n",
      "Iter 25/200 - Loss: 1684.426   log_lengthscale: -2.602\n",
      "Iter 26/200 - Loss: 1756.066   log_lengthscale: -2.641\n",
      "Iter 27/200 - Loss: 1440.654   log_lengthscale: -2.676\n",
      "Iter 28/200 - Loss: 1950.597   log_lengthscale: -2.708\n",
      "Iter 29/200 - Loss: 1908.688   log_lengthscale: -2.739\n",
      "Iter 30/200 - Loss: 1624.106   log_lengthscale: -2.766\n",
      "Iter 31/200 - Loss: 1640.422   log_lengthscale: -2.792\n",
      "Iter 32/200 - Loss: 1529.793   log_lengthscale: -2.815\n",
      "Iter 33/200 - Loss: 1251.718   log_lengthscale: -2.837\n",
      "Iter 34/200 - Loss: 1285.294   log_lengthscale: -2.857\n",
      "Iter 35/200 - Loss: 1450.090   log_lengthscale: -2.875\n",
      "Iter 36/200 - Loss: 1315.876   log_lengthscale: -2.893\n",
      "Iter 37/200 - Loss: 1203.240   log_lengthscale: -2.908\n",
      "Iter 38/200 - Loss: 1256.409   log_lengthscale: -2.923\n",
      "Iter 39/200 - Loss: 1069.446   log_lengthscale: -2.936\n",
      "Iter 40/200 - Loss: 996.969   log_lengthscale: -2.949\n",
      "Iter 41/200 - Loss: 1003.815   log_lengthscale: -2.960\n",
      "Iter 42/200 - Loss: 1209.205   log_lengthscale: -2.971\n",
      "Iter 43/200 - Loss: 1168.151   log_lengthscale: -2.981\n",
      "Iter 44/200 - Loss: 1465.139   log_lengthscale: -2.990\n",
      "Iter 45/200 - Loss: 1292.865   log_lengthscale: -2.999\n",
      "Iter 46/200 - Loss: 1496.574   log_lengthscale: -3.007\n",
      "Iter 47/200 - Loss: 1423.010   log_lengthscale: -3.014\n",
      "Iter 48/200 - Loss: 1284.732   log_lengthscale: -3.021\n",
      "Iter 49/200 - Loss: 1001.626   log_lengthscale: -3.027\n",
      "Iter 50/200 - Loss: 1174.340   log_lengthscale: -3.033\n",
      "Iter 51/200 - Loss: 1072.015   log_lengthscale: -3.039\n",
      "Iter 52/200 - Loss: 1000.124   log_lengthscale: -3.044\n",
      "Iter 53/200 - Loss: 880.003   log_lengthscale: -3.049\n",
      "Iter 54/200 - Loss: 1141.839   log_lengthscale: -3.054\n",
      "Iter 55/200 - Loss: 744.375   log_lengthscale: -3.058\n",
      "Iter 56/200 - Loss: 1159.947   log_lengthscale: -3.062\n",
      "Iter 57/200 - Loss: 896.551   log_lengthscale: -3.066\n",
      "Iter 58/200 - Loss: 954.627   log_lengthscale: -3.070\n",
      "Iter 59/200 - Loss: 1000.150   log_lengthscale: -3.074\n",
      "Iter 60/200 - Loss: 971.621   log_lengthscale: -3.077\n",
      "Iter 61/200 - Loss: 903.041   log_lengthscale: -3.080\n",
      "Iter 62/200 - Loss: 869.890   log_lengthscale: -3.083\n",
      "Iter 63/200 - Loss: 741.338   log_lengthscale: -3.086\n",
      "Iter 64/200 - Loss: 862.107   log_lengthscale: -3.088\n",
      "Iter 65/200 - Loss: 1158.076   log_lengthscale: -3.091\n",
      "Iter 66/200 - Loss: 1092.276   log_lengthscale: -3.094\n",
      "Iter 67/200 - Loss: 753.289   log_lengthscale: -3.096\n",
      "Iter 68/200 - Loss: 683.651   log_lengthscale: -3.098\n",
      "Iter 69/200 - Loss: 863.100   log_lengthscale: -3.101\n",
      "Iter 70/200 - Loss: 835.728   log_lengthscale: -3.103\n",
      "Iter 71/200 - Loss: 786.256   log_lengthscale: -3.105\n",
      "Iter 72/200 - Loss: 710.345   log_lengthscale: -3.107\n",
      "Iter 73/200 - Loss: 994.503   log_lengthscale: -3.109\n",
      "Iter 74/200 - Loss: 806.210   log_lengthscale: -3.110\n",
      "Iter 75/200 - Loss: 912.279   log_lengthscale: -3.112\n",
      "Iter 76/200 - Loss: 702.366   log_lengthscale: -3.113\n",
      "Iter 77/200 - Loss: 719.463   log_lengthscale: -3.115\n",
      "Iter 78/200 - Loss: 798.288   log_lengthscale: -3.116\n",
      "Iter 79/200 - Loss: 577.060   log_lengthscale: -3.117\n",
      "Iter 80/200 - Loss: 576.365   log_lengthscale: -3.119\n",
      "Iter 81/200 - Loss: 673.005   log_lengthscale: -3.120\n",
      "Iter 82/200 - Loss: 640.722   log_lengthscale: -3.121\n",
      "Iter 83/200 - Loss: 832.595   log_lengthscale: -3.122\n",
      "Iter 84/200 - Loss: 667.382   log_lengthscale: -3.123\n",
      "Iter 85/200 - Loss: 629.075   log_lengthscale: -3.125\n",
      "Iter 86/200 - Loss: 529.722   log_lengthscale: -3.126\n",
      "Iter 87/200 - Loss: 640.748   log_lengthscale: -3.127\n",
      "Iter 88/200 - Loss: 694.870   log_lengthscale: -3.128\n",
      "Iter 89/200 - Loss: 629.811   log_lengthscale: -3.129\n",
      "Iter 90/200 - Loss: 565.685   log_lengthscale: -3.130\n",
      "Iter 91/200 - Loss: 666.555   log_lengthscale: -3.131\n",
      "Iter 92/200 - Loss: 596.369   log_lengthscale: -3.131\n",
      "Iter 93/200 - Loss: 791.254   log_lengthscale: -3.132\n",
      "Iter 94/200 - Loss: 640.861   log_lengthscale: -3.133\n",
      "Iter 95/200 - Loss: 821.701   log_lengthscale: -3.134\n",
      "Iter 96/200 - Loss: 542.605   log_lengthscale: -3.135\n",
      "Iter 97/200 - Loss: 449.706   log_lengthscale: -3.136\n",
      "Iter 98/200 - Loss: 493.737   log_lengthscale: -3.137\n",
      "Iter 99/200 - Loss: 512.596   log_lengthscale: -3.138\n",
      "Iter 100/200 - Loss: 631.466   log_lengthscale: -3.138\n",
      "Iter 101/200 - Loss: 596.489   log_lengthscale: -3.139\n",
      "Iter 102/200 - Loss: 612.929   log_lengthscale: -3.140\n",
      "Iter 103/200 - Loss: 571.116   log_lengthscale: -3.141\n",
      "Iter 104/200 - Loss: 517.352   log_lengthscale: -3.141\n",
      "Iter 105/200 - Loss: 424.083   log_lengthscale: -3.142\n",
      "Iter 106/200 - Loss: 608.941   log_lengthscale: -3.142\n",
      "Iter 107/200 - Loss: 661.030   log_lengthscale: -3.143\n",
      "Iter 108/200 - Loss: 532.001   log_lengthscale: -3.144\n",
      "Iter 109/200 - Loss: 495.790   log_lengthscale: -3.144\n",
      "Iter 110/200 - Loss: 457.457   log_lengthscale: -3.145\n",
      "Iter 111/200 - Loss: 446.977   log_lengthscale: -3.145\n",
      "Iter 112/200 - Loss: 545.227   log_lengthscale: -3.146\n",
      "Iter 113/200 - Loss: 508.977   log_lengthscale: -3.146\n",
      "Iter 114/200 - Loss: 542.775   log_lengthscale: -3.147\n",
      "Iter 115/200 - Loss: 580.383   log_lengthscale: -3.148\n",
      "Iter 116/200 - Loss: 454.255   log_lengthscale: -3.148\n",
      "Iter 117/200 - Loss: 589.375   log_lengthscale: -3.149\n",
      "Iter 118/200 - Loss: 495.177   log_lengthscale: -3.149\n",
      "Iter 119/200 - Loss: 447.535   log_lengthscale: -3.150\n",
      "Iter 120/200 - Loss: 482.128   log_lengthscale: -3.150\n",
      "Iter 121/200 - Loss: 559.986   log_lengthscale: -3.151\n",
      "Iter 122/200 - Loss: 455.646   log_lengthscale: -3.151\n",
      "Iter 123/200 - Loss: 473.005   log_lengthscale: -3.152\n",
      "Iter 124/200 - Loss: 469.028   log_lengthscale: -3.152\n",
      "Iter 125/200 - Loss: 441.395   log_lengthscale: -3.153\n",
      "Iter 126/200 - Loss: 536.093   log_lengthscale: -3.153\n",
      "Iter 127/200 - Loss: 499.141   log_lengthscale: -3.154\n",
      "Iter 128/200 - Loss: 450.179   log_lengthscale: -3.154\n",
      "Iter 129/200 - Loss: 466.131   log_lengthscale: -3.155\n",
      "Iter 130/200 - Loss: 440.042   log_lengthscale: -3.155\n",
      "Iter 131/200 - Loss: 410.428   log_lengthscale: -3.156\n",
      "Iter 132/200 - Loss: 464.044   log_lengthscale: -3.157\n",
      "Iter 133/200 - Loss: 458.820   log_lengthscale: -3.157\n",
      "Iter 134/200 - Loss: 452.138   log_lengthscale: -3.158\n",
      "Iter 135/200 - Loss: 407.574   log_lengthscale: -3.159\n",
      "Iter 136/200 - Loss: 485.580   log_lengthscale: -3.159\n",
      "Iter 137/200 - Loss: 437.704   log_lengthscale: -3.160\n",
      "Iter 138/200 - Loss: 420.540   log_lengthscale: -3.161\n",
      "Iter 139/200 - Loss: 465.899   log_lengthscale: -3.161\n",
      "Iter 140/200 - Loss: 466.814   log_lengthscale: -3.162\n",
      "Iter 141/200 - Loss: 438.938   log_lengthscale: -3.163\n",
      "Iter 142/200 - Loss: 385.332   log_lengthscale: -3.164\n",
      "Iter 143/200 - Loss: 348.261   log_lengthscale: -3.164\n",
      "Iter 144/200 - Loss: 373.985   log_lengthscale: -3.165\n",
      "Iter 145/200 - Loss: 349.923   log_lengthscale: -3.166\n",
      "Iter 146/200 - Loss: 395.000   log_lengthscale: -3.166\n",
      "Iter 147/200 - Loss: 368.837   log_lengthscale: -3.167\n",
      "Iter 148/200 - Loss: 446.878   log_lengthscale: -3.167\n",
      "Iter 149/200 - Loss: 373.968   log_lengthscale: -3.168\n",
      "Iter 150/200 - Loss: 482.048   log_lengthscale: -3.169\n",
      "Iter 151/200 - Loss: 384.538   log_lengthscale: -3.169\n",
      "Iter 152/200 - Loss: 392.336   log_lengthscale: -3.170\n",
      "Iter 153/200 - Loss: 363.376   log_lengthscale: -3.171\n",
      "Iter 154/200 - Loss: 391.683   log_lengthscale: -3.171\n",
      "Iter 155/200 - Loss: 402.920   log_lengthscale: -3.172\n",
      "Iter 156/200 - Loss: 364.664   log_lengthscale: -3.172\n",
      "Iter 157/200 - Loss: 422.985   log_lengthscale: -3.173\n",
      "Iter 158/200 - Loss: 384.373   log_lengthscale: -3.174\n",
      "Iter 159/200 - Loss: 441.863   log_lengthscale: -3.174\n",
      "Iter 160/200 - Loss: 424.899   log_lengthscale: -3.175\n",
      "Iter 161/200 - Loss: 403.908   log_lengthscale: -3.175\n",
      "Iter 162/200 - Loss: 379.949   log_lengthscale: -3.176\n",
      "Iter 163/200 - Loss: 369.088   log_lengthscale: -3.176\n",
      "Iter 164/200 - Loss: 355.595   log_lengthscale: -3.177\n",
      "Iter 165/200 - Loss: 394.979   log_lengthscale: -3.177\n",
      "Iter 166/200 - Loss: 379.472   log_lengthscale: -3.178\n",
      "Iter 167/200 - Loss: 371.370   log_lengthscale: -3.178\n",
      "Iter 168/200 - Loss: 394.194   log_lengthscale: -3.179\n",
      "Iter 169/200 - Loss: 368.897   log_lengthscale: -3.179\n",
      "Iter 170/200 - Loss: 377.582   log_lengthscale: -3.179\n",
      "Iter 171/200 - Loss: 383.643   log_lengthscale: -3.180\n",
      "Iter 172/200 - Loss: 351.127   log_lengthscale: -3.180\n",
      "Iter 173/200 - Loss: 326.450   log_lengthscale: -3.181\n",
      "Iter 174/200 - Loss: 373.196   log_lengthscale: -3.181\n",
      "Iter 175/200 - Loss: 380.979   log_lengthscale: -3.181\n",
      "Iter 176/200 - Loss: 353.249   log_lengthscale: -3.182\n",
      "Iter 177/200 - Loss: 352.580   log_lengthscale: -3.182\n",
      "Iter 178/200 - Loss: 325.424   log_lengthscale: -3.182\n",
      "Iter 179/200 - Loss: 346.426   log_lengthscale: -3.182\n",
      "Iter 180/200 - Loss: 352.122   log_lengthscale: -3.183\n",
      "Iter 181/200 - Loss: 335.337   log_lengthscale: -3.183\n",
      "Iter 182/200 - Loss: 336.945   log_lengthscale: -3.183\n",
      "Iter 183/200 - Loss: 323.218   log_lengthscale: -3.183\n",
      "Iter 184/200 - Loss: 363.479   log_lengthscale: -3.184\n",
      "Iter 185/200 - Loss: 362.716   log_lengthscale: -3.184\n",
      "Iter 186/200 - Loss: 303.291   log_lengthscale: -3.184\n",
      "Iter 187/200 - Loss: 348.801   log_lengthscale: -3.184\n",
      "Iter 188/200 - Loss: 334.483   log_lengthscale: -3.185\n",
      "Iter 189/200 - Loss: 340.627   log_lengthscale: -3.185\n",
      "Iter 190/200 - Loss: 342.039   log_lengthscale: -3.185\n",
      "Iter 191/200 - Loss: 317.950   log_lengthscale: -3.185\n",
      "Iter 192/200 - Loss: 322.372   log_lengthscale: -3.186\n",
      "Iter 193/200 - Loss: 324.817   log_lengthscale: -3.186\n",
      "Iter 194/200 - Loss: 349.572   log_lengthscale: -3.186\n",
      "Iter 195/200 - Loss: 315.963   log_lengthscale: -3.186\n",
      "Iter 196/200 - Loss: 310.665   log_lengthscale: -3.187\n",
      "Iter 197/200 - Loss: 293.391   log_lengthscale: -3.187\n",
      "Iter 198/200 - Loss: 347.398   log_lengthscale: -3.187\n",
      "Iter 199/200 - Loss: 348.788   log_lengthscale: -3.187\n",
      "Iter 200/200 - Loss: 308.823   log_lengthscale: -3.188\n"
     ]
    },
    {
     "data": {
      "text/plain": [
       "GPClassificationModel (\n",
       "  (likelihood): BernoulliLikelihood (\n",
       "  )\n",
       "  (mean_module): ConstantMean (\n",
       "  )\n",
       "  (covar_module): RBFKernel (\n",
       "  )\n",
       "  (grid_covar_module): GridInterpolationKernel (\n",
       "    (base_kernel_module): RBFKernel (\n",
       "    )\n",
       "  )\n",
       ")"
      ]
     },
     "execution_count": 6,
     "metadata": {},
     "output_type": "execute_result"
    }
   ],
   "source": [
    "# Find optimal model hyperparameters\n",
    "model.train()\n",
    "optimizer = optim.Adam(model.parameters(), lr=0.2)\n",
    "optimizer.n_iter = 0\n",
    "for i in range(200):\n",
    "    optimizer.zero_grad()\n",
    "    output = model.forward(train_x)\n",
    "    loss = -model.marginal_log_likelihood(output, train_y)\n",
    "    loss.backward()\n",
    "    optimizer.n_iter += 1\n",
    "    print('Iter %d/200 - Loss: %.3f   log_lengthscale: %.3f' % (\n",
    "        i + 1, loss.data[0],\n",
    "        model.covar_module.log_lengthscale.data.squeeze()[0],\n",
    "    ))\n",
    "    optimizer.step()\n",
    "    \n",
    "# Set back to eval mode\n",
    "model.eval()"
   ]
  },
  {
   "cell_type": "code",
   "execution_count": 7,
   "metadata": {
    "collapsed": false
   },
   "outputs": [
    {
     "data": {
      "image/png": "[encoded data removed]",
      "text/plain": [
       "<matplotlib.figure.Figure at 0x7eff987f3c90>"
      ]
     },
     "metadata": {},
     "output_type": "display_data"
    }
   ],
   "source": [
    "f = plot_model_and_predictions(model)"
   ]
  },
  {
   "cell_type": "code",
   "execution_count": null,
   "metadata": {
    "collapsed": true
   },
   "outputs": [],
   "source": []
  }
 ],
 "metadata": {
  "anaconda-cloud": {},
  "kernelspec": {
   "display_name": "Python [default]",
   "language": "python",
   "name": "python2"
  },
  "language_info": {
   "codemirror_mode": {
    "name": "ipython",
    "version": 2
   },
   "file_extension": ".py",
   "mimetype": "text/x-python",
   "name": "python",
   "nbconvert_exporter": "python",
   "pygments_lexer": "ipython2",
   "version": "2.7.12"
  }
 },
 "nbformat": 4,
 "nbformat_minor": 2
}
