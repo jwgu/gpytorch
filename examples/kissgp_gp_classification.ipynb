{
 "cells": [
  {
   "cell_type": "code",
   "execution_count": 1,
   "metadata": {
    "collapsed": true
   },
   "outputs": [],
   "source": [
    "import math\n",
    "import torch\n",
    "import gpytorch\n",
    "from matplotlib import pyplot as plt\n",
    "\n",
    "%matplotlib inline\n",
    "%load_ext autoreload\n",
    "%autoreload 2"
   ]
  },
  {
   "cell_type": "code",
   "execution_count": 2,
   "metadata": {
    "collapsed": true
   },
   "outputs": [],
   "source": [
    "from torch.autograd import Variable\n",
    "train_x = Variable(torch.linspace(0, 1, 26))\n",
    "train_y = Variable(torch.sign(torch.cos(train_x.data * (8 * math.pi))))"
   ]
  },
  {
   "cell_type": "code",
   "execution_count": 3,
   "metadata": {
    "collapsed": true
   },
   "outputs": [],
   "source": [
    "from torch import nn, optim\n",
    "from gpytorch.kernels import RBFKernel, GridInterpolationKernel\n",
    "from gpytorch.means import ConstantMean\n",
    "from gpytorch.likelihoods import GaussianLikelihood, BernoulliLikelihood\n",
    "from gpytorch.random_variables import GaussianRandomVariable"
   ]
  },
  {
   "cell_type": "code",
   "execution_count": 4,
   "metadata": {
    "collapsed": false
   },
   "outputs": [
    {
     "data": {
      "text/plain": [
       "GPClassificationModel (\n",
       "  (likelihood): BernoulliLikelihood (\n",
       "  )\n",
       "  (mean_module): ConstantMean (\n",
       "  )\n",
       "  (covar_module): RBFKernel (\n",
       "  )\n",
       "  (grid_covar_module): GridInterpolationKernel (\n",
       "    (base_kernel_module): RBFKernel (\n",
       "    )\n",
       "  )\n",
       ")"
      ]
     },
     "execution_count": 4,
     "metadata": {},
     "output_type": "execute_result"
    }
   ],
   "source": [
    "class GPClassificationModel(gpytorch.GPModel):\n",
    "    def __init__(self):\n",
    "        super(GPClassificationModel,self).__init__(BernoulliLikelihood())\n",
    "        self.mean_module = ConstantMean()\n",
    "        self.covar_module = RBFKernel(log_lengthscale_bounds=(-6, 6))\n",
    "        self.grid_covar_module = GridInterpolationKernel(self.covar_module)\n",
    "        self.register_parameter('log_outputscale', nn.Parameter(torch.Tensor([0])), bounds=(-6,6))\n",
    "        self.initialize_interpolation_grid(30, grid_bounds=[(0, 1)])\n",
    "    \n",
    "    def forward(self,x):\n",
    "        mean_x = self.mean_module(x)\n",
    "        covar_x = self.grid_covar_module(x)\n",
    "        covar_x = covar_x.mul(self.log_outputscale.exp())\n",
    "        latent_pred = GaussianRandomVariable(mean_x, covar_x)\n",
    "        return latent_pred\n",
    "\n",
    "model = GPClassificationModel()\n",
    "model.condition(train_x, train_y)"
   ]
  },
  {
   "cell_type": "code",
   "execution_count": 5,
   "metadata": {
    "collapsed": true
   },
   "outputs": [],
   "source": [
    "def plot_model_and_predictions(model, plot_train_data=True):\n",
    "    f, observed_ax = plt.subplots(1, 1, figsize=(4, 3))\n",
    "    test_x = Variable(torch.linspace(0, 1, 100))\n",
    "    observed_pred = model(test_x)\n",
    "\n",
    "    def ax_plot(ax, rand_var, title):\n",
    "        if plot_train_data:\n",
    "            ax.plot(train_x.data.numpy(), train_y.data.numpy(), 'k*')\n",
    "        pred_labels = rand_var.mean().ge(0.5).float().mul(2).sub(1)\n",
    "        ax.plot(test_x.data.numpy(), pred_labels.data.numpy(), 'b')\n",
    "        ax.set_ylim([-3, 3])\n",
    "        ax.legend(['Observed Data', 'Mean', 'Confidence'])\n",
    "        ax.set_title(title)\n",
    "    \n",
    "    ax_plot(observed_ax, observed_pred, 'Observed Values (Likelihood)')\n",
    "    \n",
    "    return f"
   ]
  },
  {
   "cell_type": "code",
   "execution_count": 6,
   "metadata": {
    "collapsed": false,
    "scrolled": true
   },
   "outputs": [
    {
     "data": {
      "image/png": "[encoded data removed]",
      "text/plain": [
       "<matplotlib.figure.Figure at 0x7f993feea550>"
      ]
     },
     "metadata": {},
     "output_type": "display_data"
    }
   ],
   "source": [
    "f = plot_model_and_predictions(model, plot_train_data=False)"
   ]
  },
  {
   "cell_type": "code",
   "execution_count": 7,
   "metadata": {
    "collapsed": false,
    "scrolled": true
   },
   "outputs": [
    {
     "name": "stderr",
     "output_type": "stream",
     "text": [
      "/home/gpleiss/Dropbox/workspace/gpytorch/gpytorch/kernels/rbf_kernel.py:42: UserWarning: other is not broadcastable to self, but they have the same number of elements.  Falling back to deprecated pointwise behavior.\n",
      "  grad.mul_(grad_output.transpose(0, 1))\n"
     ]
    },
    {
     "name": "stdout",
     "output_type": "stream",
     "text": [
      "Iter 1/200 - Loss: 127912.406   log_lengthscale: 0.000\n",
      "Iter 2/200 - Loss: 100612.055   log_lengthscale: -0.100\n",
      "Iter 3/200 - Loss: 64037.938   log_lengthscale: -0.200\n",
      "Iter 4/200 - Loss: 49977.234   log_lengthscale: -0.297\n",
      "Iter 5/200 - Loss: 45381.445   log_lengthscale: -0.393\n",
      "Iter 6/200 - Loss: 32202.734   log_lengthscale: -0.491\n",
      "Iter 7/200 - Loss: 20132.205   log_lengthscale: -0.589\n",
      "Iter 8/200 - Loss: 23793.986   log_lengthscale: -0.686\n",
      "Iter 9/200 - Loss: 17897.691   log_lengthscale: -0.784\n",
      "Iter 10/200 - Loss: 12219.517   log_lengthscale: -0.883\n",
      "Iter 11/200 - Loss: 10798.681   log_lengthscale: -0.982\n",
      "Iter 12/200 - Loss: 8816.522   log_lengthscale: -1.081\n",
      "Iter 13/200 - Loss: 8084.330   log_lengthscale: -1.181\n",
      "Iter 14/200 - Loss: 5907.943   log_lengthscale: -1.281\n",
      "Iter 15/200 - Loss: 6907.569   log_lengthscale: -1.376\n",
      "Iter 16/200 - Loss: 4988.991   log_lengthscale: -1.476\n",
      "Iter 17/200 - Loss: 4413.563   log_lengthscale: -1.576\n",
      "Iter 18/200 - Loss: 4034.611   log_lengthscale: -1.678\n",
      "Iter 19/200 - Loss: 2311.304   log_lengthscale: -1.777\n",
      "Iter 20/200 - Loss: 2446.354   log_lengthscale: -1.872\n",
      "Iter 21/200 - Loss: 3968.431   log_lengthscale: -1.964\n",
      "Iter 22/200 - Loss: 3252.210   log_lengthscale: -2.052\n",
      "Iter 23/200 - Loss: 3497.355   log_lengthscale: -2.141\n",
      "Iter 24/200 - Loss: 1876.823   log_lengthscale: -2.222\n",
      "Iter 25/200 - Loss: 1206.249   log_lengthscale: -2.300\n",
      "Iter 26/200 - Loss: 1643.845   log_lengthscale: -2.372\n",
      "Iter 27/200 - Loss: 420.658   log_lengthscale: -2.434\n",
      "Iter 28/200 - Loss: 1023.878   log_lengthscale: -2.491\n",
      "Iter 29/200 - Loss: 717.199   log_lengthscale: -2.549\n",
      "Iter 30/200 - Loss: 851.958   log_lengthscale: -2.604\n",
      "Iter 31/200 - Loss: 351.618   log_lengthscale: -2.655\n",
      "Iter 32/200 - Loss: 552.110   log_lengthscale: -2.701\n",
      "Iter 33/200 - Loss: 379.968   log_lengthscale: -2.749\n",
      "Iter 34/200 - Loss: 353.961   log_lengthscale: -2.795\n",
      "Iter 35/200 - Loss: 204.872   log_lengthscale: -2.837\n",
      "Iter 36/200 - Loss: 137.332   log_lengthscale: -2.877\n",
      "Iter 37/200 - Loss: 192.304   log_lengthscale: -2.915\n",
      "Iter 38/200 - Loss: 174.842   log_lengthscale: -2.950\n",
      "Iter 39/200 - Loss: 254.987   log_lengthscale: -2.985\n",
      "Iter 40/200 - Loss: 271.285   log_lengthscale: -3.017\n",
      "Iter 41/200 - Loss: 264.160   log_lengthscale: -3.048\n",
      "Iter 42/200 - Loss: 185.530   log_lengthscale: -3.075\n",
      "Iter 43/200 - Loss: 141.395   log_lengthscale: -3.101\n",
      "Iter 44/200 - Loss: 157.311   log_lengthscale: -3.126\n",
      "Iter 45/200 - Loss: 177.058   log_lengthscale: -3.149\n",
      "Iter 46/200 - Loss: 147.991   log_lengthscale: -3.170\n",
      "Iter 47/200 - Loss: 51.545   log_lengthscale: -3.189\n",
      "Iter 48/200 - Loss: 139.593   log_lengthscale: -3.209\n",
      "Iter 49/200 - Loss: 148.449   log_lengthscale: -3.227\n",
      "Iter 50/200 - Loss: 156.232   log_lengthscale: -3.244\n",
      "Iter 51/200 - Loss: 123.424   log_lengthscale: -3.259\n",
      "Iter 52/200 - Loss: 266.703   log_lengthscale: -3.273\n",
      "Iter 53/200 - Loss: 160.592   log_lengthscale: -3.287\n",
      "Iter 54/200 - Loss: 176.687   log_lengthscale: -3.302\n",
      "Iter 55/200 - Loss: 112.490   log_lengthscale: -3.316\n",
      "Iter 56/200 - Loss: 108.826   log_lengthscale: -3.329\n",
      "Iter 57/200 - Loss: 74.074   log_lengthscale: -3.340\n",
      "Iter 58/200 - Loss: 76.338   log_lengthscale: -3.350\n",
      "Iter 59/200 - Loss: 97.988   log_lengthscale: -3.360\n",
      "Iter 60/200 - Loss: 72.819   log_lengthscale: -3.370\n",
      "Iter 61/200 - Loss: 83.445   log_lengthscale: -3.379\n",
      "Iter 62/200 - Loss: 69.361   log_lengthscale: -3.387\n",
      "Iter 63/200 - Loss: 77.301   log_lengthscale: -3.395\n",
      "Iter 64/200 - Loss: 84.851   log_lengthscale: -3.402\n",
      "Iter 65/200 - Loss: 93.710   log_lengthscale: -3.409\n",
      "Iter 66/200 - Loss: 110.970   log_lengthscale: -3.415\n",
      "Iter 67/200 - Loss: 81.808   log_lengthscale: -3.421\n",
      "Iter 68/200 - Loss: 67.560   log_lengthscale: -3.427\n",
      "Iter 69/200 - Loss: 49.042   log_lengthscale: -3.433\n",
      "Iter 70/200 - Loss: 95.049   log_lengthscale: -3.438\n",
      "Iter 71/200 - Loss: 85.614   log_lengthscale: -3.443\n",
      "Iter 72/200 - Loss: 90.479   log_lengthscale: -3.448\n",
      "Iter 73/200 - Loss: 71.350   log_lengthscale: -3.453\n",
      "Iter 74/200 - Loss: 83.798   log_lengthscale: -3.458\n",
      "Iter 75/200 - Loss: 133.922   log_lengthscale: -3.463\n",
      "Iter 76/200 - Loss: 70.812   log_lengthscale: -3.469\n",
      "Iter 77/200 - Loss: 90.779   log_lengthscale: -3.475\n",
      "Iter 78/200 - Loss: 63.665   log_lengthscale: -3.480\n",
      "Iter 79/200 - Loss: 97.318   log_lengthscale: -3.486\n",
      "Iter 80/200 - Loss: 123.111   log_lengthscale: -3.491\n",
      "Iter 81/200 - Loss: 73.307   log_lengthscale: -3.495\n",
      "Iter 82/200 - Loss: 77.930   log_lengthscale: -3.500\n",
      "Iter 83/200 - Loss: 69.550   log_lengthscale: -3.505\n",
      "Iter 84/200 - Loss: 66.458   log_lengthscale: -3.510\n",
      "Iter 85/200 - Loss: 47.053   log_lengthscale: -3.514\n",
      "Iter 86/200 - Loss: 54.920   log_lengthscale: -3.518\n",
      "Iter 87/200 - Loss: 59.739   log_lengthscale: -3.522\n",
      "Iter 88/200 - Loss: 57.246   log_lengthscale: -3.526\n",
      "Iter 89/200 - Loss: 62.169   log_lengthscale: -3.531\n",
      "Iter 90/200 - Loss: 69.957   log_lengthscale: -3.535\n",
      "Iter 91/200 - Loss: 59.863   log_lengthscale: -3.540\n",
      "Iter 92/200 - Loss: 69.793   log_lengthscale: -3.544\n",
      "Iter 93/200 - Loss: 48.045   log_lengthscale: -3.548\n",
      "Iter 94/200 - Loss: 54.143   log_lengthscale: -3.552\n",
      "Iter 95/200 - Loss: 58.810   log_lengthscale: -3.556\n",
      "Iter 96/200 - Loss: 43.898   log_lengthscale: -3.560\n",
      "Iter 97/200 - Loss: 63.866   log_lengthscale: -3.565\n",
      "Iter 98/200 - Loss: 54.978   log_lengthscale: -3.569\n",
      "Iter 99/200 - Loss: 51.484   log_lengthscale: -3.573\n",
      "Iter 100/200 - Loss: 72.427   log_lengthscale: -3.577\n",
      "Iter 101/200 - Loss: 72.440   log_lengthscale: -3.580\n",
      "Iter 102/200 - Loss: 66.589   log_lengthscale: -3.584\n",
      "Iter 103/200 - Loss: 74.202   log_lengthscale: -3.588\n",
      "Iter 104/200 - Loss: 60.556   log_lengthscale: -3.591\n",
      "Iter 105/200 - Loss: 44.972   log_lengthscale: -3.595\n",
      "Iter 106/200 - Loss: 24.740   log_lengthscale: -3.598\n",
      "Iter 107/200 - Loss: 70.867   log_lengthscale: -3.601\n",
      "Iter 108/200 - Loss: 60.104   log_lengthscale: -3.604\n",
      "Iter 109/200 - Loss: 43.512   log_lengthscale: -3.607\n",
      "Iter 110/200 - Loss: 51.536   log_lengthscale: -3.611\n",
      "Iter 111/200 - Loss: 46.274   log_lengthscale: -3.615\n",
      "Iter 112/200 - Loss: 85.247   log_lengthscale: -3.618\n",
      "Iter 113/200 - Loss: 62.937   log_lengthscale: -3.621\n",
      "Iter 114/200 - Loss: 33.192   log_lengthscale: -3.624\n",
      "Iter 115/200 - Loss: 64.745   log_lengthscale: -3.627\n",
      "Iter 116/200 - Loss: 54.094   log_lengthscale: -3.630\n",
      "Iter 117/200 - Loss: 70.538   log_lengthscale: -3.634\n",
      "Iter 118/200 - Loss: 60.960   log_lengthscale: -3.638\n",
      "Iter 119/200 - Loss: 62.523   log_lengthscale: -3.641\n",
      "Iter 120/200 - Loss: 61.139   log_lengthscale: -3.645\n",
      "Iter 121/200 - Loss: 46.322   log_lengthscale: -3.649\n",
      "Iter 122/200 - Loss: 60.916   log_lengthscale: -3.653\n",
      "Iter 123/200 - Loss: 61.758   log_lengthscale: -3.656\n",
      "Iter 124/200 - Loss: 59.662   log_lengthscale: -3.660\n",
      "Iter 125/200 - Loss: 57.433   log_lengthscale: -3.663\n",
      "Iter 126/200 - Loss: 49.151   log_lengthscale: -3.667\n",
      "Iter 127/200 - Loss: 58.772   log_lengthscale: -3.671\n",
      "Iter 128/200 - Loss: 68.516   log_lengthscale: -3.674\n",
      "Iter 129/200 - Loss: 44.131   log_lengthscale: -3.678\n",
      "Iter 130/200 - Loss: 45.220   log_lengthscale: -3.682\n",
      "Iter 131/200 - Loss: 61.074   log_lengthscale: -3.685\n",
      "Iter 132/200 - Loss: 48.716   log_lengthscale: -3.689\n",
      "Iter 133/200 - Loss: 58.032   log_lengthscale: -3.692\n",
      "Iter 134/200 - Loss: 51.991   log_lengthscale: -3.696\n",
      "Iter 135/200 - Loss: 65.510   log_lengthscale: -3.699\n",
      "Iter 136/200 - Loss: 43.573   log_lengthscale: -3.702\n",
      "Iter 137/200 - Loss: 50.363   log_lengthscale: -3.705\n",
      "Iter 138/200 - Loss: 56.823   log_lengthscale: -3.708\n",
      "Iter 139/200 - Loss: 60.270   log_lengthscale: -3.710\n",
      "Iter 140/200 - Loss: 56.358   log_lengthscale: -3.713\n",
      "Iter 141/200 - Loss: 44.309   log_lengthscale: -3.716\n",
      "Iter 142/200 - Loss: 66.916   log_lengthscale: -3.719\n",
      "Iter 143/200 - Loss: 45.204   log_lengthscale: -3.723\n",
      "Iter 144/200 - Loss: 61.510   log_lengthscale: -3.727\n",
      "Iter 145/200 - Loss: 53.799   log_lengthscale: -3.731\n",
      "Iter 146/200 - Loss: 43.899   log_lengthscale: -3.735\n",
      "Iter 147/200 - Loss: 50.609   log_lengthscale: -3.739\n",
      "Iter 148/200 - Loss: 43.951   log_lengthscale: -3.742\n",
      "Iter 149/200 - Loss: 55.691   log_lengthscale: -3.746\n",
      "Iter 150/200 - Loss: 43.672   log_lengthscale: -3.749\n",
      "Iter 151/200 - Loss: 39.987   log_lengthscale: -3.752\n",
      "Iter 152/200 - Loss: 40.907   log_lengthscale: -3.755\n",
      "Iter 153/200 - Loss: 44.753   log_lengthscale: -3.758\n",
      "Iter 154/200 - Loss: 52.070   log_lengthscale: -3.761\n",
      "Iter 155/200 - Loss: 57.969   log_lengthscale: -3.764\n",
      "Iter 156/200 - Loss: 55.405   log_lengthscale: -3.766\n",
      "Iter 157/200 - Loss: 48.611   log_lengthscale: -3.769\n",
      "Iter 158/200 - Loss: 59.299   log_lengthscale: -3.771\n",
      "Iter 159/200 - Loss: 63.759   log_lengthscale: -3.774\n",
      "Iter 160/200 - Loss: 51.899   log_lengthscale: -3.776\n",
      "Iter 161/200 - Loss: 52.938   log_lengthscale: -3.779\n",
      "Iter 162/200 - Loss: 47.624   log_lengthscale: -3.781\n",
      "Iter 163/200 - Loss: 50.526   log_lengthscale: -3.784\n",
      "Iter 164/200 - Loss: 60.603   log_lengthscale: -3.786\n",
      "Iter 165/200 - Loss: 52.653   log_lengthscale: -3.788\n",
      "Iter 166/200 - Loss: 56.711   log_lengthscale: -3.791\n",
      "Iter 167/200 - Loss: 34.861   log_lengthscale: -3.793\n",
      "Iter 168/200 - Loss: 50.527   log_lengthscale: -3.795\n",
      "Iter 169/200 - Loss: 50.759   log_lengthscale: -3.798\n",
      "Iter 170/200 - Loss: 49.002   log_lengthscale: -3.800\n",
      "Iter 171/200 - Loss: 53.124   log_lengthscale: -3.803\n",
      "Iter 172/200 - Loss: 37.424   log_lengthscale: -3.806\n",
      "Iter 173/200 - Loss: 57.394   log_lengthscale: -3.808\n",
      "Iter 174/200 - Loss: 38.637   log_lengthscale: -3.811\n",
      "Iter 175/200 - Loss: 49.007   log_lengthscale: -3.813\n",
      "Iter 176/200 - Loss: 54.093   log_lengthscale: -3.815\n",
      "Iter 177/200 - Loss: 39.181   log_lengthscale: -3.818\n",
      "Iter 178/200 - Loss: 48.481   log_lengthscale: -3.820\n",
      "Iter 179/200 - Loss: 34.056   log_lengthscale: -3.822\n",
      "Iter 180/200 - Loss: 50.951   log_lengthscale: -3.825\n",
      "Iter 181/200 - Loss: 41.791   log_lengthscale: -3.827\n",
      "Iter 182/200 - Loss: 39.791   log_lengthscale: -3.829\n",
      "Iter 183/200 - Loss: 52.710   log_lengthscale: -3.832\n",
      "Iter 184/200 - Loss: 46.564   log_lengthscale: -3.834\n",
      "Iter 185/200 - Loss: 48.015   log_lengthscale: -3.836\n",
      "Iter 186/200 - Loss: 48.580   log_lengthscale: -3.839\n",
      "Iter 187/200 - Loss: 36.895   log_lengthscale: -3.841\n",
      "Iter 188/200 - Loss: 46.515   log_lengthscale: -3.843\n",
      "Iter 189/200 - Loss: 36.821   log_lengthscale: -3.844\n",
      "Iter 190/200 - Loss: 46.746   log_lengthscale: -3.846\n",
      "Iter 191/200 - Loss: 42.526   log_lengthscale: -3.848\n",
      "Iter 192/200 - Loss: 55.435   log_lengthscale: -3.850\n",
      "Iter 193/200 - Loss: 45.800   log_lengthscale: -3.852\n",
      "Iter 194/200 - Loss: 41.352   log_lengthscale: -3.854\n",
      "Iter 195/200 - Loss: 32.160   log_lengthscale: -3.856\n",
      "Iter 196/200 - Loss: 41.094   log_lengthscale: -3.858\n",
      "Iter 197/200 - Loss: 44.305   log_lengthscale: -3.859\n",
      "Iter 198/200 - Loss: 63.260   log_lengthscale: -3.861\n",
      "Iter 199/200 - Loss: 49.355   log_lengthscale: -3.862\n",
      "Iter 200/200 - Loss: 39.370   log_lengthscale: -3.863\n"
     ]
    }
   ],
   "source": [
    "# Find optimal model hyperparameters\n",
    "model.train()\n",
    "optimizer = optim.Adam(model.parameters(), lr=0.1)\n",
    "optimizer.n_iter = 0\n",
    "for i in range(200):\n",
    "    optimizer.zero_grad()\n",
    "    output = model.forward(train_x)\n",
    "    loss = -model.marginal_log_likelihood(output, train_y)\n",
    "    loss.backward()\n",
    "    optimizer.n_iter += 1\n",
    "    print('Iter %d/200 - Loss: %.3f   log_lengthscale: %.3f' % (\n",
    "        i + 1, loss.data[0],\n",
    "        model.covar_module.log_lengthscale.data.squeeze()[0],\n",
    "    ))\n",
    "    optimizer.step()\n",
    "    \n",
    "# Set back to eval mode\n",
    "model.eval()\n",
    "None"
   ]
  },
  {
   "cell_type": "code",
   "execution_count": 8,
   "metadata": {
    "collapsed": false,
    "scrolled": false
   },
   "outputs": [
    {
     "data": {
      "image/png": "[encoded data removed]",
      "text/plain": [
       "<matplotlib.figure.Figure at 0x7f993feea810>"
      ]
     },
     "metadata": {},
     "output_type": "display_data"
    }
   ],
   "source": [
    "f = plot_model_and_predictions(model)"
   ]
  },
  {
   "cell_type": "code",
   "execution_count": null,
   "metadata": {
    "collapsed": true
   },
   "outputs": [],
   "source": []
  }
 ],
 "metadata": {
  "anaconda-cloud": {},
  "kernelspec": {
   "display_name": "Python [default]",
   "language": "python",
   "name": "python2"
  },
  "language_info": {
   "codemirror_mode": {
    "name": "ipython",
    "version": 2
   },
   "file_extension": ".py",
   "mimetype": "text/x-python",
   "name": "python",
   "nbconvert_exporter": "python",
   "pygments_lexer": "ipython2",
   "version": "2.7.12"
  }
 },
 "nbformat": 4,
 "nbformat_minor": 1
}
